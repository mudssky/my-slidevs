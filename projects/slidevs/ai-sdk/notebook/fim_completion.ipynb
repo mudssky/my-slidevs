{
 "cells": [
  {
   "cell_type": "code",
   "execution_count": null,
   "metadata": {},
   "outputs": [
    {
     "name": "stdout",
     "output_type": "stream",
     "text": [
      "\n",
      "  return a + b;\n"
     ]
    }
   ],
   "source": [
    "\n",
    "import OpenAI from \"openai\";\n",
    "import Config from \"../scripts/config.json\" assert { type: \"json\" }\n",
    "const openai = new OpenAI({\n",
    "    baseURL: Config.deepseek_base_url,\n",
    "    apiKey: Config.deepseek_api_key\n",
    "});\n",
    "\n",
    "async function fimCompletion() {\n",
    "    try {\n",
    "        const completion = await openai.completions.create({\n",
    "            model: \"deepseek-chat\",\n",
    "            prompt: \"function add(a, b) {\\n  // 返回两个数的和\",\n",
    "            suffix: \"\\n}\",\n",
    "            max_tokens: 100,\n",
    "            temperature: 0.7,\n",
    "        }, {\n",
    "            path: '/beta/completions'  // 使用 FIM 补全的特殊路径\n",
    "        });\n",
    "\n",
    "        console.log(completion.choices[0].text);\n",
    "    } catch (error) {\n",
    "        console.error(\"FIM补全出错:\", error);\n",
    "    }\n",
    "}\n",
    "\n",
    "// 使用deepseek v3 0324\n",
    "await fimCompletion();"
   ]
  }
 ],
 "metadata": {
  "kernelspec": {
   "display_name": "Deno",
   "language": "typescript",
   "name": "deno"
  },
  "language_info": {
   "codemirror_mode": "typescript",
   "file_extension": ".ts",
   "mimetype": "text/x.typescript",
   "name": "typescript",
   "nbconvert_exporter": "script",
   "pygments_lexer": "typescript",
   "version": "5.7.3"
  }
 },
 "nbformat": 4,
 "nbformat_minor": 2
}
