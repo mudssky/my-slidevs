{
 "cells": [
  {
   "cell_type": "code",
   "execution_count": 1,
   "metadata": {},
   "outputs": [],
   "source": [
    "import Config from \"../scripts/config.json\" assert { type: \"json\" }\n",
    "import OpenAI from 'npm:openai'"
   ]
  },
  {
   "cell_type": "code",
   "execution_count": null,
   "metadata": {},
   "outputs": [
    {
     "data": {
      "text/plain": [
       "{\n",
       "  id: \u001b[32m\"952a4eac-619f-4613-a5fb-178ffa917084\"\u001b[39m,\n",
       "  object: \u001b[32m\"chat.completion\"\u001b[39m,\n",
       "  created: \u001b[33m1741683553\u001b[39m,\n",
       "  model: \u001b[32m\"deepseek-chat\"\u001b[39m,\n",
       "  choices: [\n",
       "    {\n",
       "      index: \u001b[33m0\u001b[39m,\n",
       "      message: { role: \u001b[32m\"assistant\"\u001b[39m, content: \u001b[32m\"\"\u001b[39m, tool_calls: [ \u001b[36m[Object]\u001b[39m ] },\n",
       "      logprobs: \u001b[1mnull\u001b[22m,\n",
       "      finish_reason: \u001b[32m\"tool_calls\"\u001b[39m\n",
       "    }\n",
       "  ],\n",
       "  usage: {\n",
       "    prompt_tokens: \u001b[33m155\u001b[39m,\n",
       "    completion_tokens: \u001b[33m24\u001b[39m,\n",
       "    total_tokens: \u001b[33m179\u001b[39m,\n",
       "    prompt_tokens_details: { cached_tokens: \u001b[33m128\u001b[39m },\n",
       "    prompt_cache_hit_tokens: \u001b[33m128\u001b[39m,\n",
       "    prompt_cache_miss_tokens: \u001b[33m27\u001b[39m\n",
       "  },\n",
       "  system_fingerprint: \u001b[32m\"fp_3a5770e1b4_prod0225\"\u001b[39m\n",
       "}"
      ]
     },
     "execution_count": 2,
     "metadata": {},
     "output_type": "execute_result"
    }
   ],
   "source": [
    "const openai = new OpenAI({\n",
    "  baseURL: Config.deepseek_base_url,\n",
    "  apiKey: Config.deepseek_api_key,\n",
    "})\n",
    "\n",
    "const tools = [\n",
    "  {\n",
    "    type: \"function\",\n",
    "    function: {\n",
    "      name: \"getCurrentWeather\",\n",
    "      description: \"获取指定位置天气，用户需要先指定一个位置\",\n",
    "      parameters: {\n",
    "        type: \"object\",\n",
    "        properties: {\n",
    "          location: {\n",
    "            type: \"string\",\n",
    "            description: \"城市或者地区名称，比如杭州\",\n",
    "          },\n",
    "          unit: { type: \"string\", enum: [\"celsius\", \"fahrenheit\"] }\n",
    "        },\n",
    "        required: [\"location\"],\n",
    "      },\n",
    "    },\n",
    "  },\n",
    "];\n",
    "const toolcallRes=await openai.chat.completions.create({\n",
    "  model: \"deepseek-chat\", // DeepSeek专用模型标识\n",
    "  messages: [\n",
    "    {\n",
    "      role: \"user\",\n",
    "      content: \"今天杭州天气怎么样\",\n",
    "    },\n",
    "  ],\n",
    "\n",
    "  function_call: \"auto\",\n",
    "  temperature: 0.3,\n",
    "  tools,\n",
    "});\n",
    "\n",
    "toolcallRes\n"
   ]
  },
  {
   "cell_type": "code",
   "execution_count": 3,
   "metadata": {},
   "outputs": [
    {
     "name": "stdout",
     "output_type": "stream",
     "text": [
      "[\n",
      "  {\n",
      "    index: 0,\n",
      "    id: \"call_0_a9a7c11e-0563-4145-af7a-6bc8cadf52df\",\n",
      "    type: \"function\",\n",
      "    function: {\n",
      "      name: \"getCurrentWeather\",\n",
      "      arguments: '{\"location\":\"杭州\",\"unit\":\"celsius\"}'\n",
      "    }\n",
      "  }\n",
      "]\n"
     ]
    }
   ],
   "source": [
    "console.dir(toolcallRes.choices[0].message.tool_calls)"
   ]
  }
 ],
 "metadata": {
  "kernelspec": {
   "display_name": "Deno",
   "language": "typescript",
   "name": "deno"
  },
  "language_info": {
   "codemirror_mode": "typescript",
   "file_extension": ".ts",
   "mimetype": "text/x.typescript",
   "name": "typescript",
   "nbconvert_exporter": "script",
   "pygments_lexer": "typescript",
   "version": "5.7.3"
  }
 },
 "nbformat": 4,
 "nbformat_minor": 2
}
