{
 "cells": [
  {
   "cell_type": "code",
   "execution_count": 1,
   "metadata": {},
   "outputs": [
    {
     "data": {
      "text/plain": [
       "Response {\n",
       "  body: ReadableStream { locked: \u001b[33mfalse\u001b[39m },\n",
       "  bodyUsed: \u001b[33mfalse\u001b[39m,\n",
       "  headers: Headers {\n",
       "    \u001b[32m\"content-type\"\u001b[39m: \u001b[32m\"application/x-ndjson\"\u001b[39m,\n",
       "    date: \u001b[32m\"Tue, 11 Feb 2025 09:36:17 GMT\"\u001b[39m,\n",
       "    \u001b[32m\"transfer-encoding\"\u001b[39m: \u001b[32m\"chunked\"\u001b[39m\n",
       "  },\n",
       "  ok: \u001b[33mtrue\u001b[39m,\n",
       "  redirected: \u001b[33mfalse\u001b[39m,\n",
       "  status: \u001b[33m200\u001b[39m,\n",
       "  statusText: \u001b[32m\"OK\"\u001b[39m,\n",
       "  url: \u001b[32m\"http://localhost:11434/api/chat\"\u001b[39m\n",
       "}"
      ]
     },
     "execution_count": 1,
     "metadata": {},
     "output_type": "execute_result"
    }
   ],
   "source": [
    "const res=await fetch('http://localhost:11434/api/chat',\n",
    "{\n",
    "    method: 'POST',\n",
    "    headers: {\n",
    "        'Content-Type': 'application/json'\n",
    "    },\n",
    "    body: JSON.stringify({\n",
    "        model:'deepseek-r1:1.5b',\n",
    "        messages:[\n",
    "            {\n",
    "                role:'user',\n",
    "                content:'天空为什么是蓝色的'   \n",
    "            }\n",
    "        ]\n",
    "    })\n",
    "})\n",
    "res"
   ]
  },
  {
   "cell_type": "code",
   "execution_count": 2,
   "metadata": {},
   "outputs": [
    {
     "data": {
      "text/plain": [
       "\u001b[32m'{\"model\":\"deepseek-r1:1.5b\",\"created_at\":\"2025-02-11T09:36:17.2660541Z\",\"message\":{\"role\":\"assistant\",\"content\":\"\\\\u003cthink\\\\u003e\"},\"done\":false}\\n'\u001b[39m +\n",
       "  \u001b[32m'{\"model\":\"deepseek-r1:1.5b\",\"created_at\":\"2025-02-11T09:36:17.2938586Z\",\"message\":{\"role\":\"assistant\",\"content\":\"\\\\n\"},\"done\":false}\\n'\u001b[39m +\n",
       "  \u001b[32m'{\"model\":\"deepseek-r1:1.5b\",\"created_at\":\"2025-02-11T09:36:17.3207665Z\",\"message\":{\"role\":\"assistant\",\"content\":\"嗯\"},\"done\":false}\\n'\u001b[39m +\n",
       "  \u001b[32m'{\"model\":\"deepseek-r1:1.5b\",\"created_at\":\"2025-02-11T09:36:17.350243Z\",\"message\":{\"role\":\"assistant\",\"content\":\"，\"},\"done\":false}\\n'\u001b[39m +\n",
       "  \u001b[32m'{\"model\":\"deepseek-r1:1.5b\",\"created_at\":\"2025-02-11T09:36:17.3763906Z\",\"message\":{\"role\":\"assistant\",\"content\":\"天空\"},\"done\":false}\\n'\u001b[39m +\n",
       "  \u001b[32m'{\"model\":\"deepseek-r1:1.5b\",\"created_at\":\"2025-02-11T09:36:17.4056567Z\",\"message\":{\"role\":\"assistant\",\"content\":\"为什么\"},\"done\":false}\\n'\u001b[39m +\n",
       "  \u001b[32m'{\"model\":\"deepseek-r1:1.5b\",\"created_at\":\"2025-02-11T09:36:17.4389018Z\",\"message\":{\"role\":\"assistant\",\"content\":\"是\"},\"done\":false}\\n'\u001b[39m +\n",
       "  \u001b[32m'{\"model\":\"deepseek-r1:1.5b\",\"created_at\":\"2025-02-11T09:36:17.4699098Z\",\"message\":{\"role\":\"assistant\",\"content\":\"蓝色\"},\"done\":false}\\n'\u001b[39m +\n",
       "  \u001b[32m'{\"model\":\"deepseek-r1:1.5b\",\"created_at\":\"2025-02-11T09:36:17.5129268Z\",\"message\":{\"role\":\"assistant\",\"content\":\"的\"},\"done\":false}\\n'\u001b[39m +\n",
       "  \u001b[32m'{\"model\":\"deepseek-r1:1.5b\",\"created_at\":\"2025-02-11T09:36:17.5450204Z\",\"message\":{\"role\":\"assistant\",\"content\":\"呢\"},\"done\":false}\\n'\u001b[39m +\n",
       "  \u001b[32m'{\"model\":\"deepseek-r1:1.5b\",\"created_at\":\"2025-02-11T09:36:17.572542Z\",\"message\":{\"role\":\"assistant\",\"content\":\"？\"},\"done\":false}\\n'\u001b[39m +\n",
       "  \u001b[32m'{\"model\":\"deepseek-r1:1.5b\",\"created_at\":\"2025-02-11T09:36:17.5989938Z\",\"message\":{\"role\":\"assistant\",\"content\":\"这个问题\"},\"done\":false}\\n'\u001b[39m +\n",
       "  \u001b[32m'{\"model\":\"deepseek-r1:1.5b\",\"created_at\":\"2025-02-11T09:36:17.6259336Z\",\"message\":{\"role\":\"assistant\",\"content\":\"好像\"},\"done\":false}\\n'\u001b[39m +\n",
       "  \u001b[32m'{\"model\":\"deepseek-r1:1.5b\",\"created_at\":\"2025-02-11T09:36:17.6523766Z\",\"message\":{\"role\":\"assistant\",\"content\":\"挺\"},\"done\":false}\\n'\u001b[39m +\n",
       "  \u001b[32m'{\"model\":\"deepseek-r1:1.5b\",\"created_at\":\"2025-02-11T09:36:17.6796818Z\",\"message\":{\"role\":\"assistant\",\"content\":\"有趣的\"},\"done\":false}\\n'\u001b[39m +\n",
       "  \u001b[32m'{\"model\":\"deepseek-r1:1.5b\",\"created_at\":\"2025-02-11T09:36:17.7074669Z\",\"message\":{\"role\":\"assistant\",\"content\":\"。\"},\"done\":false}\\n'\u001b[39m +\n",
       "  \u001b[32m'{\"model\":\"deepseek-r1:1.5b\",\"created_at\":\"2025-02-11T09:36:17.7328084Z\",\"message\":{\"role\":\"assistant\",\"content\":\"首先\"},\"done\":false}\\n'\u001b[39m +\n",
       "  \u001b[32m'{\"model\":\"deepseek-r1:1.5b\",\"created_at\":\"2025-02-11T09:36:17.7593521Z\",\"message\":{\"role\":\"assistant\",\"content\":\"，\"},\"done\":false}\\n'\u001b[39m +\n",
       "  \u001b[32m'{\"model\":\"deepseek-r1:1.5b\",\"created_at\":\"2025-02-11T09:36:17.7866241Z\",\"message\":{\"role\":\"assistant\",\"content\":\"我记得\"},\"done\":false}\\n'\u001b[39m +\n",
       "  \u001b[32m'{\"model\":\"deepseek-r1:1.5b\",\"created_at\":\"2025-02-11T09:36:17.8125106Z\",\"message\":{\"role\":\"assistant\",\"content\":\"阳光\"},\"done\":false}\\n'\u001b[39m +\n",
       "  \u001b[32m'{\"model\":\"deepseek-r1:1.5b\",\"created_at\":\"2025-02-11T09:36:17.839421Z\",\"message\":{\"role\":\"assistant\",\"content\":\"通常是\"},\"done\":false}\\n'\u001b[39m +\n",
       "  \u001b[32m'{\"model\":\"deepseek-r1:1.5b\",\"created_at\":\"2025-02-11T09:36:17.8668498Z\",\"message\":{\"role\":\"assistant\",\"content\":\"白色的\"},\"done\":false}\\n'\u001b[39m +\n",
       "  \u001b[32m'{\"model\":\"deepseek-r1:1.5b\",\"created_at\":\"2025-02-11T09:36:17.8924014Z\",\"message\":{\"role\":\"assistant\",\"content\":\"，\"},\"done\":false}\\n'\u001b[39m +\n",
       "  \u001b[32m'{\"model\":\"deepseek-r1:1.5b\",\"created_at\":\"2025-02-11T09:36:17.9200645Z\",\"message\":{\"role\":\"assistant\",\"content\":\"因为\"},\"done\":false}\\n'\u001b[39m +\n",
       "  \u001b[32m'{\"model\":\"deepseek-r1:1.5b\",\"created_at\":\"2025-02-11T09:36:17.9466023Z\",\"message\":{\"role\":\"assistant\",\"content\":\"它是\"},\"done\":false}\\n'\u001b[39m +\n",
       "  \u001b[32m'{\"model\":\"deepseek-r1:1.5b\",\"created_at\":\"2025-02-11T09:36:17.9745651Z\",\"message\":{\"role\":\"assistant\",\"content\":\"直\"},\"done\":false}\\n'\u001b[39m +\n",
       "  \u001b[32m'{\"model\":\"deepseek-r1:1.5b\",\"created_at\":\"2025-02-11T09:36:18.0036991Z\",\"message\":{\"role\":\"assistant\",\"content\":\"射\"},\"done\":false}\\n'\u001b[39m +\n",
       "  \u001b[32m'{\"model\":\"deepseek-r1:1.5b\",\"created_at\":\"2025-02-11T09:36:18.0333186Z\",\"message\":{\"role\":\"assistant\",\"content\":\"到\"},\"done\":false}\\n'\u001b[39m +\n",
       "  \u001b[32m'{\"model\":\"deepseek-r1:1.5b\",\"created_at\":\"2025-02-11T09:36:18.0637237Z\",\"message\":{\"role\":\"assistant\",\"content\":\"地面\"},\"done\":false}\\n'\u001b[39m +\n",
       "  \u001b[32m'{\"model\":\"deepseek-r1:1.5b\",\"created_at\":\"2025-02-11T09:36:18.0937047Z\",\"message\":{\"role\":\"assistant\",\"content\":\"的\"},\"done\":false}\\n'\u001b[39m +\n",
       "  \u001b[32m'{\"model\":\"deepseek-r1:1.5b\",\"created_at\":\"2025-02-11T09:36:18.1222608Z\",\"message\":{\"role\":\"assistant\",\"content\":\"，\"},\"done\":false}\\n'\u001b[39m +\n",
       "  \u001b[32m'{\"model\":\"deepseek-r1:1.5b\",\"created_at\":\"2025-02-11T09:36:18.1491352Z\",\"message\":{\"role\":\"assistant\",\"content\":\"直接\"},\"done\":false}\\n'\u001b[39m +\n",
       "  \u001b[32m'{\"model\":\"deepseek-r1:1.5b\",\"created_at\":\"2025-02-11T09:36:18.1771776Z\",\"message\":{\"role\":\"assistant\",\"content\":\"照亮\"},\"done\":false}\\n'\u001b[39m +\n",
       "  \u001b[32m'{\"model\":\"deepseek-r1:1.5b\",\"created_at\":\"2025-02-11T09:36:18.2052881Z\",\"message\":{\"role\":\"assistant\",\"content\":\"整个\"},\"done\":false}\\n'\u001b[39m +\n",
       "  \u001b[32m'{\"model\":\"deepseek-r1:1.5b\",\"created_at\":\"2025-02-11T09:36:18.2317369Z\",\"message\":{\"role\":\"assistant\",\"content\":\"天空\"},\"done\":false}\\n'\u001b[39m +\n",
       "  \u001b[32m'{\"model\":\"deepseek-r1:1.5b\",\"created_at\":\"2025-02-11T09:36:18.2583135Z\",\"message\":{\"role\":\"assistant\",\"content\":\"。\"},\"done\":false}\\n'\u001b[39m +\n",
       "  \u001b[32m'{\"model\":\"deepseek-r1:1.5b\",\"created_at\":\"2025-02-11T09:36:18.2841651Z\",\"message\":{\"role\":\"assistant\",\"content\":\"但是\"},\"done\":false}\\n'\u001b[39m +\n",
       "  \u001b[32m'{\"model\":\"deepseek-r1:1.5b\",\"created_at\":\"2025-02-11T09:36:18.3108866Z\",\"message\":{\"role\":\"assistant\",\"content\":\"天空\"},\"done\":false}\\n'\u001b[39m +\n",
       "  \u001b[32m'{\"model\":\"deepseek-r1:1.5b\",\"created_at\":\"2025-02-11T09:36:18.3370318Z\",\"message\":{\"role\":\"assistant\",\"content\":\"看起来\"},\"done\":false}\\n'\u001b[39m +\n",
       "  \u001b[32m'{\"model\":\"deepseek-r1:1.5b\",\"created_at\":\"2025-02-11T09:36:18.3644605Z\",\"message\":{\"role\":\"assistant\",\"content\":\"却是\"},\"done\":false}\\n'\u001b[39m +\n",
       "  \u001b[32m'{\"model\":\"deepseek-r1:1.5b\",\"created_at\":\"2025-02-11T09:36:18.3915741Z\",\"message\":{\"role\":\"assistant\",\"content\":\"蓝色\"},\"done\":false}\\n'\u001b[39m +\n",
       "  \u001b[32m'{\"model\":\"deepseek-r1:1.5b\",\"created_at\":\"2025-02-11T09:36:18.4178414Z\",\"message\":{\"role\":\"assistant\",\"content\":\"的\"},\"done\":false}\\n'\u001b[39m +\n",
       "  \u001b[32m'{\"model\":\"deepseek-r1:1.5b\",\"created_at\":\"2025-02-11T09:36:18.4455833Z\",\"message\":{\"role\":\"assistant\",\"content\":\"，\"},\"done\":false}\\n'\u001b[39m +\n",
       "  \u001b[32m'{\"model\":\"deepseek-r1:1.5b\",\"created_at\":\"2025-02-11T09:36:18.4719522Z\",\"message\":{\"role\":\"assistant\",\"content\":\"这\"},\"done\":false}\\n'\u001b[39m +\n",
       "  \u001b[32m'{\"model\":\"deepseek-r1:1.5b\",\"created_at\":\"2025-02-11T09:36:18.4989202Z\",\"message\":{\"role\":\"assistant\",\"content\":\"确实\"},\"done\":false}\\n'\u001b[39m +\n",
       "  \u001b[32m'{\"model\":\"deepseek-r1:1.5b\",\"created_at\":\"2025-02-11T09:36:18.5265474Z\",\"message\":{\"role\":\"assistant\",\"content\":\"让我\"},\"done\":false}\\n'\u001b[39m +\n",
       "  \u001b[32m'{\"model\":\"deepseek-r1:1.5b\",\"created_at\":\"2025-02-11T09:36:18.5561124Z\",\"message\":{\"role\":\"assistant\",\"content\":\"有点\"},\"done\":false}\\n'\u001b[39m +\n",
       "  \u001b[32m'{\"model\":\"deepseek-r1:1.5b\",\"created_at\":\"2025-02-11T09:36:18.5844784Z\",\"message\":{\"role\":\"assistant\",\"content\":\"困惑\"},\"done\":false}\\n'\u001b[39m +\n",
       "  \u001b[32m'{\"model\":\"deepseek-r1:1.5b\",\"created_at\":\"2025-02-11T09:36:18.6137646Z\",\"message\":{\"role\":\"assistant\",\"content\":\"。\\\\n\\\\n\"},\"done\":false}\\n'\u001b[39m +\n",
       "  \u001b[32m'{\"model\":\"deepseek-r1:1.5b\",\"created_at\":\"2025-02-11T09:36:18.6421452Z\",\"message\":{\"role\":\"assistant\",\"content\":\"那\"},\"done\":false}\\n'\u001b[39m +\n",
       "  \u001b[32m'{\"model\":\"deepseek-r1:1.5b\",\"created_at\":\"2025-02-11T09:36:18.6695626Z\",\"message\":{\"role\":\"assistant\",\"content\":\"为什么会\"},\"done\":false}\\n'\u001b[39m +\n",
       "  \u001b[32m'{\"model\":\"deepseek-r1:1.5b\",\"created_at\":\"2025-02-11T09:36:18.6988465Z\",\"message\":{\"role\":\"assistant\",\"content\":\"这样\"},\"done\":false}\\n'\u001b[39m +\n",
       "  \u001b[32m'{\"model\":\"deepseek-r1:1.5b\",\"created_at\":\"2025-02-11T09:36:18.7267935Z\",\"message\":{\"role\":\"assistant\",\"content\":\"呢\"},\"done\":false}\\n'\u001b[39m +\n",
       "  \u001b[32m'{\"model\":\"deepseek-r1:1.5b\",\"created_at\":\"2025-02-11T09:36:18.7560663Z\",\"message\":{\"role\":\"assistant\",\"content\":\"？\"},\"done\":false}\\n'\u001b[39m +\n",
       "  \u001b[32m'{\"model\":\"deepseek-r1:1.5b\",\"created_at\":\"2025-02-11T09:36:18.7886805Z\",\"message\":{\"role\":\"assistant\",\"content\":\"也许\"},\"done\":false}\\n'\u001b[39m +\n",
       "  \u001b[32m'{\"model\":\"deepseek-r1:1.5b\",\"created_at\":\"2025-02-11T09:36:18.8213654Z\",\"message\":{\"role\":\"assistant\",\"content\":\"是因为\"},\"done\":false}\\n'\u001b[39m +\n",
       "  \u001b[32m'{\"model\":\"deepseek-r1:1.5b\",\"created_at\":\"2025-02-11T09:36:18.8520882Z\",\"message\":{\"role\":\"assistant\",\"content\":\"阳光\"},\"done\":false}\\n'\u001b[39m +\n",
       "  \u001b[32m'{\"model\":\"deepseek-r1:1.5b\",\"created_at\":\"2025-02-11T09:36:18.8798492Z\",\"message\":{\"role\":\"assistant\",\"content\":\"在\"},\"done\":false}\\n'\u001b[39m +\n",
       "  \u001b[32m'{\"model\":\"deepseek-r1:1.5b\",\"created_at\":\"2025-02-11T09:36:18.9130224Z\",\"message\":{\"role\":\"assistant\",\"content\":\"空气中\"},\"done\":false}\\n'\u001b[39m +\n",
       "  \u001b[32m'{\"model\":\"deepseek-r1:1.5b\",\"created_at\":\"2025-02-11T09:36:18.9413017Z\",\"message\":{\"role\":\"assistant\",\"content\":\"折射\"},\"done\":false}\\n'\u001b[39m +\n",
       "  \u001b[32m'{\"model\":\"deepseek-r1:1.5b\",\"created_at\":\"2025-02-11T09:36:18.9691918Z\",\"message\":{\"role\":\"assistant\",\"content\":\"和\"},\"done\":false}\\n'\u001b[39m +\n",
       "  \u001b[32m'{\"model\":\"deepseek-r1:1.5b\",\"created_at\":\"2025-02-11T09:36:18.9991431Z\",\"message\":{\"role\":\"assistant\",\"content\":\"反射\"},\"done\":false}\\n'\u001b[39m +\n",
       "  \u001b[32m'{\"model\":\"deepseek-r1:1.5b\",\"created_at\":\"2025-02-11T09:36:19.0279732Z\",\"message\":{\"role\":\"assistant\",\"content\":\"，\"},\"done\":false}\\n'\u001b[39m +\n",
       "  \u001b[32m'{\"model\":\"deepseek-r1:1.5b\",\"created_at\":\"2025-02-11T09:36:19.0557289Z\",\"message\":{\"role\":\"assistant\",\"content\":\"导致\"},\"done\":false}\\n'\u001b[39m +\n",
       "  \u001b[32m'{\"model\":\"deepseek-r1:1.5b\",\"created_at\":\"2025-02-11T09:36:19.0834137Z\",\"message\":{\"role\":\"assistant\",\"content\":\"光线\"},\"done\":false}\\n'\u001b[39m +\n",
       "  \u001b[32m'{\"model\":\"deepseek-r1:1.5b\",\"created_at\":\"2025-02-11T09:36:19.1112574Z\",\"message\":{\"role\":\"assistant\",\"content\":\"传播\"},\"done\":false}\\n'\u001b[39m +\n",
       "  \u001b[32m'{\"model\":\"deepseek-r1:1.5b\",\"created_at\":\"2025-02-11T09:36:19.1389265Z\",\"message\":{\"role\":\"assistant\",\"content\":\"得\"},\"done\":false}\\n'\u001b[39m +\n",
       "  \u001b[32m'{\"model\":\"deepseek-r1:1.5b\",\"created_at\":\"2025-02-11T09:36:19.1659833Z\",\"message\":{\"role\":\"assistant\",\"content\":\"更\"},\"done\":false}\\n'\u001b[39m +\n",
       "  \u001b[32m'{\"model\":\"deepseek-r1:1.5b\",\"created_at\":\"2025-02-11T09:36:19.1935716Z\",\"message\":{\"role\":\"assistant\",\"content\":\"远\"},\"done\":false}\\n'\u001b[39m +\n",
       "  \u001b[32m'{\"model\":\"deepseek-r1:1.5b\",\"created_at\":\"2025-02-11T09:36:19.2205282Z\",\"message\":{\"role\":\"assistant\",\"content\":\"，\"},\"done\":false}\\n'\u001b[39m +\n",
       "  \u001b[32m'{\"model\":\"deepseek-r1:1.5b\",\"created_at\":\"2025-02-11T09:36:19.2480723Z\",\"message\":{\"role\":\"assistant\",\"content\":\"颜色\"},\"done\":false}\\n'\u001b[39m +\n",
       "  \u001b[32m'{\"model\":\"deepseek-r1:1.5b\",\"created_at\":\"2025-02-11T09:36:19.2765451Z\",\"message\":{\"role\":\"assistant\",\"content\":\"也\"},\"done\":false}\\n'\u001b[39m +\n",
       "  \u001b[32m'{\"model\":\"deepseek-r1:1.5b\",\"created_at\":\"2025-02-11T09:36:19.30378Z\",\"message\":{\"role\":\"assistant\",\"content\":\"变得更\"},\"done\":false}\\n'\u001b[39m +\n",
       "  \u001b[32m'{\"model\":\"deepseek-r1:1.5b\",\"created_at\":\"2025-02-11T09:36:19.3316918Z\",\"message\":{\"role\":\"assistant\",\"content\":\"柔和\"},\"done\":false}\\n'\u001b[39m +\n",
       "  \u001b[32m'{\"model\":\"deepseek-r1:1.5b\",\"created_at\":\"2025-02-11T09:36:19.3606508Z\",\"message\":{\"role\":\"assistant\",\"content\":\"一些\"},\"done\":false}\\n'\u001b[39m +\n",
       "  \u001b[32m'{\"model\":\"deepseek-r1:1.5b\",\"created_at\":\"2025-02-11T09:36:19.3885689Z\",\"message\":{\"role\":\"assistant\",\"c'\u001b[39m... 121490 more characters"
      ]
     },
     "execution_count": 2,
     "metadata": {},
     "output_type": "execute_result"
    }
   ],
   "source": [
    "\n",
    "const resText=await res.text()\n",
    "resText"
   ]
  },
  {
   "cell_type": "code",
   "execution_count": 3,
   "metadata": {},
   "outputs": [
    {
     "data": {
      "text/plain": [
       "\u001b[32m\"<think>\\n\"\u001b[39m +\n",
       "  \u001b[32m\"嗯，天空为什么是蓝色的呢？这个问题好像挺有趣的。首先，我记得阳光通常是白色的，因为它是直射到地面的，直接照亮整个天空。但是天空看起来却是蓝色的，这确实让我有点困惑。\\n\"\u001b[39m +\n",
       "  \u001b[32m\"\\n\"\u001b[39m +\n",
       "  \u001b[32m\"那为什么会这样呢？也许是因为阳光在空气中折射和反射，导致光线传播得更远，颜色也变得更柔和一些。比如，我们看到的海面、池塘里的水都是蓝色的，这是因为光线经过空气中的水珠（或者说是空气中的小冰晶）折射后变成了浅蓝色。这种现象叫做“散射效应”或“光的色散”。也许天空里面也有类似的现象。\\n\"\u001b[39m +\n",
       "  \u001b[32m\"\\n\"\u001b[39m +\n",
       "  \u001b[32m\"但是，这样解释似乎有点问题。因为光是沿着直线传播的，在空气中不会被折射，除非遇到物体或者介质。那为什么天空看起来像反射了阳光？或者说，是否是因为大气层中的某些成分导致光线重新聚焦？\\n\"\u001b[39m +\n",
       "  \u001b[32m\"\\n\"\u001b[39m +\n",
       "  \u001b[32m\"再想想，宇宙中有一个叫“大气”的现象，指的是太阳光进入地球大气层后，由于密度的变化，部分光会被折射或反射，从而使远处的天体 appear as bright objects。比如，我们看到星星的时间是由于它们发出的光穿过大气层后被吸收和散射形成的。\\n\"\u001b[39m +\n",
       "  \u001b[32m\"\\n\"\u001b[39m +\n",
       "  \u001b[32m\"可是，这样的话，天空中的阳光是如何变得蓝色的呢？也许是因为太阳的颜色变化导致的？\\n\"\u001b[39m +\n",
       "  \u001b[32m\"\\n\"\u001b[39m +\n",
       "  \u001b[32m\"我记得太阳是黄色的，而不是白色的。太阳光进入大气层时，会因为折射和反射而改变方向，从而形成一个“云”，即太阳的位置看起来不同。这种现象叫做“太阳日影”或者“太阳偏移”。\\n\"\u001b[39m +\n",
       "  \u001b[32m\"\\n\"\u001b[39m +\n",
       "  \u001b[32m\"但是这似乎还是不太直接关系到天空的颜色。\\n\"\u001b[39m +\n",
       "  \u001b[32m\"\\n\"\u001b[39m +\n",
       "  \u001b[32m\"另一个可能的原因是大气中的某些成分，比如二氧化碳或者其他气体，可能会吸收或反射阳光，导致颜色变化。或者，或许是因为光线在地球表面的折射和反射作用，使得天空看起来更加柔和、深蓝色。\\n\"\u001b[39m +\n",
       "  \u001b[32m\"\\n\"\u001b[39m +\n",
       "  \u001b[32m\"我有点困惑了，感觉需要更多的信息来理解这个问题。也许可以通过科学原理来分析。\\n\"\u001b[39m +\n",
       "  \u001b[32m\"\\n\"\u001b[39m +\n",
       "  \u001b[32m\"首先，太阳发出的是白光，也就是主要由红、橙、黄、绿、蓝、靛、紫等多种颜色组成的光谱。这些不同颜色的光到达空气中时，会因为吸收和散射的不同而表现出不同的强度。\\n\"\u001b[39m +\n",
       "  \u001b[32m\"\\n\"\u001b[39m +\n",
       "  \u001b[32m\"那么，为什么天空看起来蓝色呢？可能是因为太阳的颜色比较接近蓝紫色，因此在空气中被更多地散射或者反射出来，导致天空呈现出一种柔和的蓝色。\\n\"\u001b[39m +\n",
       "  \u001b[32m\"\\n\"\u001b[39m +\n",
       "  \u001b[32m\"再者，考虑到大气层中存在许多小冰晶或小水 droplets，当阳光穿透这些小颗粒时，会发生折射和反射，从而将颜色扩散到整个天空。这种现象被称为“散射效应”或“光的色散”，使得远处的天体看起来明亮，而我们看到的是它们偏移后的形象。\\n\"\u001b[39m +\n",
       "  \u001b[32m\"\\n\"\u001b[39m +\n",
       "  \u001b[32m\"但是，这样解释似乎有点矛盾，因为太阳本身是黄色的，它在地球表面的光线进入大气层后会因为折射和反射，导致出现太阳位置的变化，而不是阳光本身变得蓝色。\\n\"\u001b[39m +\n",
       "  \u001b[32m\"\\n\"\u001b[39m +\n",
       "  \u001b[32m\"或许，天空呈现蓝色是因为空气中有很多细小的水滴或气体分子，当阳光穿透这些微粒时，它们会在视场中发生反射或折射，从而将不同颜色的光混合在一起，形成一种柔和的蓝色。\\n\"\u001b[39m +\n",
       "  \u001b[32m\"\\n\"\u001b[39m +\n",
       "  \u001b[32m\"不过，这可能过于简化了情况，实际上，这是大气层的复杂现象，涉及到光线的传播路径和介质中的折射、反射等作用。\\n\"\u001b[39m +\n",
       "  \u001b[32m\"\\n\"\u001b[39m +\n",
       "  \u001b[32m\"总的来说，天空呈现蓝色是因为阳光在地球大气层中被吸收、散射或反射后形成的。具体来说，可能是由于空气中的小冰晶、水滴或气体分子让不同颜色的光混合在一起，形成柔和的蓝色。或者，可能是因为太阳本身的颜色接近蓝紫色，导致它更易地被散射，从而使天空呈现出一种柔和的蓝色。\\n\"\u001b[39m +\n",
       "  \u001b[32m\"\\n\"\u001b[39m +\n",
       "  \u001b[32m\"不过，我觉得我需要进一步查阅相关的科学知识，才能准确理解这个问题。\\n\"\u001b[39m +\n",
       "  \u001b[32m\"</think>\\n\"\u001b[39m +\n",
       "  \u001b[32m\"\\n\"\u001b[39m +\n",
       "  \u001b[32m\"天空呈现蓝色的原因可以归因于地球大气层的作用，具体来说：\\n\"\u001b[39m +\n",
       "  \u001b[32m\"\\n\"\u001b[39m +\n",
       "  \u001b[32m\"1. **太阳光在大气中的传播**：太阳发出白光（主要颜色为红色和橙色），这些光线经过地球大气层时会遇到空气中的密度不均匀性。部分光被折射或反射，导致远处天体的影像看起来明亮，而我们看到的是偏移后的形象。\\n\"\u001b[39m +\n",
       "  \u001b[32m\"\\n\"\u001b[39m +\n",
       "  \u001b[32m\"2. **散射效应**：空气中的微小颗粒物、如水滴和气分子，当阳光穿透这些微粒时会发生折射和反射，将不同颜色的光混合在一起，形成柔和的蓝色。\\n\"\u001b[39m +\n",
       "  \u001b[32m\"\\n\"\u001b[39m +\n",
       "  \u001b[32m\"3. **大气中的色散作用**：空气中碳氢化合物（如二氧化碳）吸收太阳光的一部分，从而影响太阳的颜色，使得天空呈现出一种柔和的蓝色。\\n\"\u001b[39m +\n",
       "  \u001b[32m\"\\n\"\u001b[39m +\n",
       "  \u001b[32m\"综上所述，天空呈现蓝色是由于地球大气层中微小的颗粒物和气体分子对阳光的不同颜色进行了折射、反射和混合，导致远处天体影像明亮，而我们看到的是偏移后的景象。\"\u001b[39m"
      ]
     },
     "execution_count": 3,
     "metadata": {},
     "output_type": "execute_result"
    }
   ],
   "source": [
    "import {getOllamaMessageFromRes} from './ollama.ts'\n",
    "getOllamaMessageFromRes(resText)"
   ]
  }
 ],
 "metadata": {
  "kernelspec": {
   "display_name": "Deno",
   "language": "typescript",
   "name": "deno"
  },
  "language_info": {
   "codemirror_mode": "typescript",
   "file_extension": ".ts",
   "mimetype": "text/x.typescript",
   "name": "typescript",
   "nbconvert_exporter": "script",
   "pygments_lexer": "typescript",
   "version": "5.6.2"
  }
 },
 "nbformat": 4,
 "nbformat_minor": 2
}
