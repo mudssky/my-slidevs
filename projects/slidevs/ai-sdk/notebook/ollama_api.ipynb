{
 "cells": [
  {
   "cell_type": "code",
   "execution_count": 2,
   "metadata": {},
   "outputs": [
    {
     "data": {
      "text/plain": [
       "Response {\n",
       "  body: ReadableStream { locked: \u001b[33mfalse\u001b[39m },\n",
       "  bodyUsed: \u001b[33mfalse\u001b[39m,\n",
       "  headers: Headers {\n",
       "    \u001b[32m\"content-type\"\u001b[39m: \u001b[32m\"application/x-ndjson\"\u001b[39m,\n",
       "    date: \u001b[32m\"Tue, 25 Feb 2025 07:24:05 GMT\"\u001b[39m,\n",
       "    \u001b[32m\"transfer-encoding\"\u001b[39m: \u001b[32m\"chunked\"\u001b[39m\n",
       "  },\n",
       "  ok: \u001b[33mtrue\u001b[39m,\n",
       "  redirected: \u001b[33mfalse\u001b[39m,\n",
       "  status: \u001b[33m200\u001b[39m,\n",
       "  statusText: \u001b[32m\"OK\"\u001b[39m,\n",
       "  url: \u001b[32m\"http://localhost:11434/api/chat\"\u001b[39m\n",
       "}"
      ]
     },
     "execution_count": 2,
     "metadata": {},
     "output_type": "execute_result"
    }
   ],
   "source": [
    "const res=await fetch('http://localhost:11434/api/chat',\n",
    "{\n",
    "    method: 'POST',\n",
    "    headers: {\n",
    "        'Content-Type': 'application/json'\n",
    "    },\n",
    "    body: JSON.stringify({\n",
    "        model:'deepseek-r1:1.5b',\n",
    "        messages:[\n",
    "            {\n",
    "                role:'user',\n",
    "                content:'天空为什么是蓝色的'   \n",
    "            }\n",
    "        ]\n",
    "    })\n",
    "})\n",
    "res"
   ]
  },
  {
   "cell_type": "code",
   "execution_count": 3,
   "metadata": {},
   "outputs": [
    {
     "data": {
      "text/plain": [
       "\u001b[32m'{\"model\":\"deepseek-r1:1.5b\",\"created_at\":\"2025-02-25T07:24:05.2803529Z\",\"message\":{\"role\":\"assistant\",\"content\":\"\\\\u003cthink\\\\u003e\"},\"done\":false}\\n'\u001b[39m +\n",
       "  \u001b[32m'{\"model\":\"deepseek-r1:1.5b\",\"created_at\":\"2025-02-25T07:24:05.3079493Z\",\"message\":{\"role\":\"assistant\",\"content\":\"\\\\n\"},\"done\":false}\\n'\u001b[39m +\n",
       "  \u001b[32m'{\"model\":\"deepseek-r1:1.5b\",\"created_at\":\"2025-02-25T07:24:05.3356039Z\",\"message\":{\"role\":\"assistant\",\"content\":\"嗯\"},\"done\":false}\\n'\u001b[39m +\n",
       "  \u001b[32m'{\"model\":\"deepseek-r1:1.5b\",\"created_at\":\"2025-02-25T07:24:05.3628649Z\",\"message\":{\"role\":\"assistant\",\"content\":\"，\"},\"done\":false}\\n'\u001b[39m +\n",
       "  \u001b[32m'{\"model\":\"deepseek-r1:1.5b\",\"created_at\":\"2025-02-25T07:24:05.3907718Z\",\"message\":{\"role\":\"assistant\",\"content\":\"天空\"},\"done\":false}\\n'\u001b[39m +\n",
       "  \u001b[32m'{\"model\":\"deepseek-r1:1.5b\",\"created_at\":\"2025-02-25T07:24:05.4178754Z\",\"message\":{\"role\":\"assistant\",\"content\":\"为什么\"},\"done\":false}\\n'\u001b[39m +\n",
       "  \u001b[32m'{\"model\":\"deepseek-r1:1.5b\",\"created_at\":\"2025-02-25T07:24:05.4441495Z\",\"message\":{\"role\":\"assistant\",\"content\":\"是\"},\"done\":false}\\n'\u001b[39m +\n",
       "  \u001b[32m'{\"model\":\"deepseek-r1:1.5b\",\"created_at\":\"2025-02-25T07:24:05.4706185Z\",\"message\":{\"role\":\"assistant\",\"content\":\"蓝色\"},\"done\":false}\\n'\u001b[39m +\n",
       "  \u001b[32m'{\"model\":\"deepseek-r1:1.5b\",\"created_at\":\"2025-02-25T07:24:05.4972132Z\",\"message\":{\"role\":\"assistant\",\"content\":\"呢\"},\"done\":false}\\n'\u001b[39m +\n",
       "  \u001b[32m'{\"model\":\"deepseek-r1:1.5b\",\"created_at\":\"2025-02-25T07:24:05.5263788Z\",\"message\":{\"role\":\"assistant\",\"content\":\"？\"},\"done\":false}\\n'\u001b[39m +\n",
       "  \u001b[32m'{\"model\":\"deepseek-r1:1.5b\",\"created_at\":\"2025-02-25T07:24:05.5544014Z\",\"message\":{\"role\":\"assistant\",\"content\":\"这是一个\"},\"done\":false}\\n'\u001b[39m +\n",
       "  \u001b[32m'{\"model\":\"deepseek-r1:1.5b\",\"created_at\":\"2025-02-25T07:24:05.5803984Z\",\"message\":{\"role\":\"assistant\",\"content\":\"挺\"},\"done\":false}\\n'\u001b[39m +\n",
       "  \u001b[32m'{\"model\":\"deepseek-r1:1.5b\",\"created_at\":\"2025-02-25T07:24:05.6078019Z\",\"message\":{\"role\":\"assistant\",\"content\":\"有意思\"},\"done\":false}\\n'\u001b[39m +\n",
       "  \u001b[32m'{\"model\":\"deepseek-r1:1.5b\",\"created_at\":\"2025-02-25T07:24:05.6365163Z\",\"message\":{\"role\":\"assistant\",\"content\":\"的问题\"},\"done\":false}\\n'\u001b[39m +\n",
       "  \u001b[32m'{\"model\":\"deepseek-r1:1.5b\",\"created_at\":\"2025-02-25T07:24:05.6649152Z\",\"message\":{\"role\":\"assistant\",\"content\":\"。\"},\"done\":false}\\n'\u001b[39m +\n",
       "  \u001b[32m'{\"model\":\"deepseek-r1:1.5b\",\"created_at\":\"2025-02-25T07:24:05.691855Z\",\"message\":{\"role\":\"assistant\",\"content\":\"首先\"},\"done\":false}\\n'\u001b[39m +\n",
       "  \u001b[32m'{\"model\":\"deepseek-r1:1.5b\",\"created_at\":\"2025-02-25T07:24:05.7181029Z\",\"message\":{\"role\":\"assistant\",\"content\":\"，\"},\"done\":false}\\n'\u001b[39m +\n",
       "  \u001b[32m'{\"model\":\"deepseek-r1:1.5b\",\"created_at\":\"2025-02-25T07:24:05.7437457Z\",\"message\":{\"role\":\"assistant\",\"content\":\"我记得\"},\"done\":false}\\n'\u001b[39m +\n",
       "  \u001b[32m'{\"model\":\"deepseek-r1:1.5b\",\"created_at\":\"2025-02-25T07:24:05.7699689Z\",\"message\":{\"role\":\"assistant\",\"content\":\"颜色\"},\"done\":false}\\n'\u001b[39m +\n",
       "  \u001b[32m'{\"model\":\"deepseek-r1:1.5b\",\"created_at\":\"2025-02-25T07:24:05.7966229Z\",\"message\":{\"role\":\"assistant\",\"content\":\"通常是\"},\"done\":false}\\n'\u001b[39m +\n",
       "  \u001b[32m'{\"model\":\"deepseek-r1:1.5b\",\"created_at\":\"2025-02-25T07:24:05.8228195Z\",\"message\":{\"role\":\"assistant\",\"content\":\"根据\"},\"done\":false}\\n'\u001b[39m +\n",
       "  \u001b[32m'{\"model\":\"deepseek-r1:1.5b\",\"created_at\":\"2025-02-25T07:24:05.8489093Z\",\"message\":{\"role\":\"assistant\",\"content\":\"光\"},\"done\":false}\\n'\u001b[39m +\n",
       "  \u001b[32m'{\"model\":\"deepseek-r1:1.5b\",\"created_at\":\"2025-02-25T07:24:05.8744617Z\",\"message\":{\"role\":\"assistant\",\"content\":\"的颜色\"},\"done\":false}\\n'\u001b[39m +\n",
       "  \u001b[32m'{\"model\":\"deepseek-r1:1.5b\",\"created_at\":\"2025-02-25T07:24:05.901309Z\",\"message\":{\"role\":\"assistant\",\"content\":\"来\"},\"done\":false}\\n'\u001b[39m +\n",
       "  \u001b[32m'{\"model\":\"deepseek-r1:1.5b\",\"created_at\":\"2025-02-25T07:24:05.9277429Z\",\"message\":{\"role\":\"assistant\",\"content\":\"判断\"},\"done\":false}\\n'\u001b[39m +\n",
       "  \u001b[32m'{\"model\":\"deepseek-r1:1.5b\",\"created_at\":\"2025-02-25T07:24:05.9542011Z\",\"message\":{\"role\":\"assistant\",\"content\":\"的\"},\"done\":false}\\n'\u001b[39m +\n",
       "  \u001b[32m'{\"model\":\"deepseek-r1:1.5b\",\"created_at\":\"2025-02-25T07:24:05.979979Z\",\"message\":{\"role\":\"assistant\",\"content\":\"，\"},\"done\":false}\\n'\u001b[39m +\n",
       "  \u001b[32m'{\"model\":\"deepseek-r1:1.5b\",\"created_at\":\"2025-02-25T07:24:06.006667Z\",\"message\":{\"role\":\"assistant\",\"content\":\"比如\"},\"done\":false}\\n'\u001b[39m +\n",
       "  \u001b[32m'{\"model\":\"deepseek-r1:1.5b\",\"created_at\":\"2025-02-25T07:24:06.0329891Z\",\"message\":{\"role\":\"assistant\",\"content\":\"红色\"},\"done\":false}\\n'\u001b[39m +\n",
       "  \u001b[32m'{\"model\":\"deepseek-r1:1.5b\",\"created_at\":\"2025-02-25T07:24:06.0587639Z\",\"message\":{\"role\":\"assistant\",\"content\":\"、\"},\"done\":false}\\n'\u001b[39m +\n",
       "  \u001b[32m'{\"model\":\"deepseek-r1:1.5b\",\"created_at\":\"2025-02-25T07:24:06.0859598Z\",\"message\":{\"role\":\"assistant\",\"content\":\"绿色\"},\"done\":false}\\n'\u001b[39m +\n",
       "  \u001b[32m'{\"model\":\"deepseek-r1:1.5b\",\"created_at\":\"2025-02-25T07:24:06.1122349Z\",\"message\":{\"role\":\"assistant\",\"content\":\"这些\"},\"done\":false}\\n'\u001b[39m +\n",
       "  \u001b[32m'{\"model\":\"deepseek-r1:1.5b\",\"created_at\":\"2025-02-25T07:24:06.1397714Z\",\"message\":{\"role\":\"assistant\",\"content\":\"明显\"},\"done\":false}\\n'\u001b[39m +\n",
       "  \u001b[32m'{\"model\":\"deepseek-r1:1.5b\",\"created_at\":\"2025-02-25T07:24:06.1663961Z\",\"message\":{\"role\":\"assistant\",\"content\":\"可见\"},\"done\":false}\\n'\u001b[39m +\n",
       "  \u001b[32m'{\"model\":\"deepseek-r1:1.5b\",\"created_at\":\"2025-02-25T07:24:06.1926068Z\",\"message\":{\"role\":\"assistant\",\"content\":\"的颜色\"},\"done\":false}\\n'\u001b[39m +\n",
       "  \u001b[32m'{\"model\":\"deepseek-r1:1.5b\",\"created_at\":\"2025-02-25T07:24:06.2200648Z\",\"message\":{\"role\":\"assistant\",\"content\":\"。\"},\"done\":false}\\n'\u001b[39m +\n",
       "  \u001b[32m'{\"model\":\"deepseek-r1:1.5b\",\"created_at\":\"2025-02-25T07:24:06.2462556Z\",\"message\":{\"role\":\"assistant\",\"content\":\"但是\"},\"done\":false}\\n'\u001b[39m +\n",
       "  \u001b[32m'{\"model\":\"deepseek-r1:1.5b\",\"created_at\":\"2025-02-25T07:24:06.2729244Z\",\"message\":{\"role\":\"assistant\",\"content\":\"，\"},\"done\":false}\\n'\u001b[39m +\n",
       "  \u001b[32m'{\"model\":\"deepseek-r1:1.5b\",\"created_at\":\"2025-02-25T07:24:06.2990738Z\",\"message\":{\"role\":\"assistant\",\"content\":\"天空\"},\"done\":false}\\n'\u001b[39m +\n",
       "  \u001b[32m'{\"model\":\"deepseek-r1:1.5b\",\"created_at\":\"2025-02-25T07:24:06.3262203Z\",\"message\":{\"role\":\"assistant\",\"content\":\"为什么会\"},\"done\":false}\\n'\u001b[39m +\n",
       "  \u001b[32m'{\"model\":\"deepseek-r1:1.5b\",\"created_at\":\"2025-02-25T07:24:06.3530003Z\",\"message\":{\"role\":\"assistant\",\"content\":\"是\"},\"done\":false}\\n'\u001b[39m +\n",
       "  \u001b[32m'{\"model\":\"deepseek-r1:1.5b\",\"created_at\":\"2025-02-25T07:24:06.3788312Z\",\"message\":{\"role\":\"assistant\",\"content\":\"蓝色\"},\"done\":false}\\n'\u001b[39m +\n",
       "  \u001b[32m'{\"model\":\"deepseek-r1:1.5b\",\"created_at\":\"2025-02-25T07:24:06.4061254Z\",\"message\":{\"role\":\"assistant\",\"content\":\"的\"},\"done\":false}\\n'\u001b[39m +\n",
       "  \u001b[32m'{\"model\":\"deepseek-r1:1.5b\",\"created_at\":\"2025-02-25T07:24:06.4332055Z\",\"message\":{\"role\":\"assistant\",\"content\":\"呢\"},\"done\":false}\\n'\u001b[39m +\n",
       "  \u001b[32m'{\"model\":\"deepseek-r1:1.5b\",\"created_at\":\"2025-02-25T07:24:06.4589012Z\",\"message\":{\"role\":\"assistant\",\"content\":\"？\"},\"done\":false}\\n'\u001b[39m +\n",
       "  \u001b[32m'{\"model\":\"deepseek-r1:1.5b\",\"created_at\":\"2025-02-25T07:24:06.4860191Z\",\"message\":{\"role\":\"assistant\",\"content\":\"我不\"},\"done\":false}\\n'\u001b[39m +\n",
       "  \u001b[32m'{\"model\":\"deepseek-r1:1.5b\",\"created_at\":\"2025-02-25T07:24:06.5123707Z\",\"message\":{\"role\":\"assistant\",\"content\":\"太\"},\"done\":false}\\n'\u001b[39m +\n",
       "  \u001b[32m'{\"model\":\"deepseek-r1:1.5b\",\"created_at\":\"2025-02-25T07:24:06.5398238Z\",\"message\":{\"role\":\"assistant\",\"content\":\"清楚\"},\"done\":false}\\n'\u001b[39m +\n",
       "  \u001b[32m'{\"model\":\"deepseek-r1:1.5b\",\"created_at\":\"2025-02-25T07:24:06.5666047Z\",\"message\":{\"role\":\"assistant\",\"content\":\"。\\\\n\\\\n\"},\"done\":false}\\n'\u001b[39m +\n",
       "  \u001b[32m'{\"model\":\"deepseek-r1:1.5b\",\"created_at\":\"2025-02-25T07:24:06.5943574Z\",\"message\":{\"role\":\"assistant\",\"content\":\"可能\"},\"done\":false}\\n'\u001b[39m +\n",
       "  \u001b[32m'{\"model\":\"deepseek-r1:1.5b\",\"created_at\":\"2025-02-25T07:24:06.6257539Z\",\"message\":{\"role\":\"assistant\",\"content\":\"是因为\"},\"done\":false}\\n'\u001b[39m +\n",
       "  \u001b[32m'{\"model\":\"deepseek-r1:1.5b\",\"created_at\":\"2025-02-25T07:24:06.6576282Z\",\"message\":{\"role\":\"assistant\",\"content\":\"阳光\"},\"done\":false}\\n'\u001b[39m +\n",
       "  \u001b[32m'{\"model\":\"deepseek-r1:1.5b\",\"created_at\":\"2025-02-25T07:24:06.6894056Z\",\"message\":{\"role\":\"assistant\",\"content\":\"被\"},\"done\":false}\\n'\u001b[39m +\n",
       "  \u001b[32m'{\"model\":\"deepseek-r1:1.5b\",\"created_at\":\"2025-02-25T07:24:06.717841Z\",\"message\":{\"role\":\"assistant\",\"content\":\"地球\"},\"done\":false}\\n'\u001b[39m +\n",
       "  \u001b[32m'{\"model\":\"deepseek-r1:1.5b\",\"created_at\":\"2025-02-25T07:24:06.7460202Z\",\"message\":{\"role\":\"assistant\",\"content\":\"表面\"},\"done\":false}\\n'\u001b[39m +\n",
       "  \u001b[32m'{\"model\":\"deepseek-r1:1.5b\",\"created_at\":\"2025-02-25T07:24:06.7737715Z\",\"message\":{\"role\":\"assistant\",\"content\":\"的大\"},\"done\":false}\\n'\u001b[39m +\n",
       "  \u001b[32m'{\"model\":\"deepseek-r1:1.5b\",\"created_at\":\"2025-02-25T07:24:06.8011683Z\",\"message\":{\"role\":\"assistant\",\"content\":\"气\"},\"done\":false}\\n'\u001b[39m +\n",
       "  \u001b[32m'{\"model\":\"deepseek-r1:1.5b\",\"created_at\":\"2025-02-25T07:24:06.8289647Z\",\"message\":{\"role\":\"assistant\",\"content\":\"层\"},\"done\":false}\\n'\u001b[39m +\n",
       "  \u001b[32m'{\"model\":\"deepseek-r1:1.5b\",\"created_at\":\"2025-02-25T07:24:06.8557223Z\",\"message\":{\"role\":\"assistant\",\"content\":\" scattering\"},\"done\":false}\\n'\u001b[39m +\n",
       "  \u001b[32m'{\"model\":\"deepseek-r1:1.5b\",\"created_at\":\"2025-02-25T07:24:06.8858199Z\",\"message\":{\"role\":\"assistant\",\"content\":\"散\"},\"done\":false}\\n'\u001b[39m +\n",
       "  \u001b[32m'{\"model\":\"deepseek-r1:1.5b\",\"created_at\":\"2025-02-25T07:24:06.914223Z\",\"message\":{\"role\":\"assistant\",\"content\":\"射\"},\"done\":false}\\n'\u001b[39m +\n",
       "  \u001b[32m'{\"model\":\"deepseek-r1:1.5b\",\"created_at\":\"2025-02-25T07:24:06.942456Z\",\"message\":{\"role\":\"assistant\",\"content\":\"去了\"},\"done\":false}\\n'\u001b[39m +\n",
       "  \u001b[32m'{\"model\":\"deepseek-r1:1.5b\",\"created_at\":\"2025-02-25T07:24:06.9710179Z\",\"message\":{\"role\":\"assistant\",\"content\":\"。\"},\"done\":false}\\n'\u001b[39m +\n",
       "  \u001b[32m'{\"model\":\"deepseek-r1:1.5b\",\"created_at\":\"2025-02-25T07:24:06.9997244Z\",\"message\":{\"role\":\"assistant\",\"content\":\"这\"},\"done\":false}\\n'\u001b[39m +\n",
       "  \u001b[32m'{\"model\":\"deepseek-r1:1.5b\",\"created_at\":\"2025-02-25T07:24:07.0301824Z\",\"message\":{\"role\":\"assistant\",\"content\":\"就像\"},\"done\":false}\\n'\u001b[39m +\n",
       "  \u001b[32m'{\"model\":\"deepseek-r1:1.5b\",\"created_at\":\"2025-02-25T07:24:07.0589414Z\",\"message\":{\"role\":\"assistant\",\"content\":\"我们\"},\"done\":false}\\n'\u001b[39m +\n",
       "  \u001b[32m'{\"model\":\"deepseek-r1:1.5b\",\"created_at\":\"2025-02-25T07:24:07.0879546Z\",\"message\":{\"role\":\"assistant\",\"content\":\"看到\"},\"done\":false}\\n'\u001b[39m +\n",
       "  \u001b[32m'{\"model\":\"deepseek-r1:1.5b\",\"created_at\":\"2025-02-25T07:24:07.115705Z\",\"message\":{\"role\":\"assistant\",\"content\":\"的\"},\"done\":false}\\n'\u001b[39m +\n",
       "  \u001b[32m'{\"model\":\"deepseek-r1:1.5b\",\"created_at\":\"2025-02-25T07:24:07.1441666Z\",\"message\":{\"role\":\"assistant\",\"content\":\"天空\"},\"done\":false}\\n'\u001b[39m +\n",
       "  \u001b[32m'{\"model\":\"deepseek-r1:1.5b\",\"created_at\":\"2025-02-25T07:24:07.172267Z\",\"message\":{\"role\":\"assistant\",\"content\":\"中\"},\"done\":false}\\n'\u001b[39m +\n",
       "  \u001b[32m'{\"model\":\"deepseek-r1:1.5b\",\"created_at\":\"2025-02-25T07:24:07.200185Z\",\"message\":{\"role\":\"assistant\",\"content\":\"水\"},\"done\":false}\\n'\u001b[39m +\n",
       "  \u001b[32m'{\"model\":\"deepseek-r1:1.5b\",\"created_at\":\"2025-02-25T07:24:07.2285038Z\",\"message\":{\"role\":\"assistant\",\"content\":\"汽\"},\"done\":false}\\n'\u001b[39m +\n",
       "  \u001b[32m'{\"model\":\"deepseek-r1:1.5b\",\"created_at\":\"2025-02-25T07:24:07.2563057Z\",\"message\":{\"role\":\"assistant\",\"content\":\"含量\"},\"done\":false}\\n'\u001b[39m +\n",
       "  \u001b[32m'{\"model\":\"deepseek-r1:1.5b\",\"created_at\":\"2025-02-25T07:24:07.283608Z\",\"message\":{\"role\":\"assistant\",\"content\":\"低\"},\"done\":false}\\n'\u001b[39m +\n",
       "  \u001b[32m'{\"model\":\"deepseek-r1:1.5b\",\"created_at\":\"2025-02-25T07:24:07.31027Z\",\"message\":{\"role\":\"assistant\",\"content\":\"的时候\"},\"done\":false}\\n'\u001b[39m +\n",
       "  \u001b[32m'{\"model\":\"deepseek-r1:1.5b\",\"created_at\":\"2025-02-25T07:24:07.338694Z\",\"message\":{\"role\":\"assistant\",\"con'\u001b[39m... 105907 more characters"
      ]
     },
     "execution_count": 3,
     "metadata": {},
     "output_type": "execute_result"
    }
   ],
   "source": [
    "\n",
    "const resText=await res.text()\n",
    "resText"
   ]
  },
  {
   "cell_type": "code",
   "execution_count": 5,
   "metadata": {},
   "outputs": [
    {
     "name": "stdout",
     "output_type": "stream",
     "text": [
      "<think>\n",
      "嗯，天空为什么是蓝色呢？这是一个挺有意思的问题。首先，我记得颜色通常是根据光的颜色来判断的，比如红色、绿色这些明显可见的颜色。但是，天空为什么会是蓝色的呢？我不太清楚。\n",
      "\n",
      "可能是因为阳光被地球表面的大气层 scattering散射去了。这就像我们看到的天空中水汽含量低的时候看起来白，而水汽含量高时会变成蓝或者红。我记得以前学过大气对光的吸收和散射，这个应该很重要。\n",
      "\n",
      "再想想，地球上的空气主要成分是氮气和氧气，还有微小的其他气体。在太阳照射下，这些气体会吸收阳光中的大部分颜色，剩下的光线可能反射或被微小的颗粒分散后传递给我们看到的颜色。这样看来，天空的颜色其实是因为地球表面的小颗粒物，比如灰尘、尘埃等，它们能够有效地散射和吸收光波。\n",
      "\n",
      "我还记得听说过大气层的稀薄问题。在太阳直射的地方，大气层比较薄，所以散射更多，颜色更明显；而在高层大气层的时候，散射较少，颜色可能较浅或者柔和一些。这可能解释了为什么在某些时间天空看起来更有颜色。\n",
      "\n",
      "另外，我还听说有些天文学上的现象和天空的颜色相关联。比如太阳黑子，在太阳光的照射下，可能会让天空看起来呈现黑色或者其他颜色。而蓝色的天空可能是由于太阳光被大气层中的水蒸气等气体散射后形成的，这可能与地球表面的大气成分有关。\n",
      "\n",
      "还有一个方面是，阳光从太阳到达地球的过程中，会被大气层中的微小粒子 scattering，比如空气分子和氧气分子，这些微小颗粒会在空气中悬浮，形成大气层的一部分。它们的存在使得 sunlight的大部分能量被分散出去，而不是反射或吸收。这样看起来，天空就会出现蓝色或者其他颜色。\n",
      "\n",
      "总结一下，天空的颜色主要是由于地球表面的大气层对阳光的散射和吸收作用的结果。虽然太阳光本身是全色谱的，但大气中的微小颗粒物使光线被分散和吸收，从而形成了不同的颜色。此外，不同时间段的大气条件也可能影响天空的颜色，比如太阳直射地区的薄大气层会使得天空颜色更明显。\n",
      "\n",
      "不过，我还得查一下是否有其他因素影响了天上的颜色。比如，地球的形状、大气层的高度是否足够薄，以及温度是否会影响散射效果等等。这些方面可能都有一定的关系，但主要还是大气层的作用。\n",
      "\n",
      "总的来说，天空的颜色之所以是蓝色的，主要是因为地球表面的大气层对阳光进行了大量的散射和吸收作用，这使得我们看到的天体会呈现出特定的颜色。同时，太阳光本身也是一个全色谱光，但其实际呈现的颜色是由大气中的微小颗粒物的散射和吸收决定的。\n",
      "</think>\n",
      "\n",
      "天空的颜色之所以是蓝色，主要是由于地球表面的大气层对阳光进行了散射、吸收和反射的作用。以下是详细解释：\n",
      "\n",
      "1. **大气层的作用**：\n",
      "   大气层主要由氮气和氧气组成，这些气体在太阳光下吸收大部分颜色。微小的颗粒物如灰尘和尘埃能够有效地散射和吸收光线。\n",
      "\n",
      "2. **色散现象**：\n",
      "   太阳光的白色主要波长被大气层中的微小颗粒分散，导致天空呈现出蓝色、绿色或紫色。此外，地球表面的大气分子在太阳直射时散射阳光，使颜色更明显。\n",
      "\n",
      "3. **稀薄大气层的影响**：\n",
      "   在太阳直射的地方，大气层较薄，散射效果更佳，天空显示更鲜明的颜色。而在高层大气层时，散射较少，颜色可能较柔和。\n",
      "\n",
      "4. **太阳黑子现象**：\n",
      "   太阳黑子在太阳光下使天空呈现黑色或其他颜色，这与大气中的微小颗粒有关。\n",
      "\n",
      "5. **地球表面的大气成分**：\n",
      "   地球表面的大气层是形成天空的重要部分，其微小颗粒物影响了光线的传递和散射。\n",
      "\n",
      "总结来说，天空的颜色由大气层对阳光的散射和吸收作用决定，主要原因是大气中的微小颗粒物使光线被分散和吸收，从而形成了蓝色、绿色或紫色等颜色。\n"
     ]
    }
   ],
   "source": [
    "import {getOllamaMessageFromRes} from './ollama.ts'\n",
    "const response =getOllamaMessageFromRes(resText)\n",
    "console.log(response)\n"
   ]
  }
 ],
 "metadata": {
  "kernelspec": {
   "display_name": "Deno",
   "language": "typescript",
   "name": "deno"
  },
  "language_info": {
   "codemirror_mode": "typescript",
   "file_extension": ".ts",
   "mimetype": "text/x.typescript",
   "name": "typescript",
   "nbconvert_exporter": "script",
   "pygments_lexer": "typescript",
   "version": "5.6.2"
  }
 },
 "nbformat": 4,
 "nbformat_minor": 2
}
