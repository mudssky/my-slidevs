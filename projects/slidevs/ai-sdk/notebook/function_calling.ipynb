{
 "cells": [
  {
   "cell_type": "code",
   "execution_count": 2,
   "metadata": {},
   "outputs": [],
   "source": [
    "import Config from \"../scripts/config.json\" assert { type: \"json\" }\n",
    "import OpenAI from 'openai'"
   ]
  },
  {
   "cell_type": "code",
   "execution_count": 3,
   "metadata": {},
   "outputs": [],
   "source": [
    "const openai = new OpenAI({\n",
    "  baseURL: Config.deepseek_base_url,\n",
    "  apiKey: Config.deepseek_api_key,\n",
    "})"
   ]
  },
  {
   "cell_type": "code",
   "execution_count": null,
   "metadata": {},
   "outputs": [
    {
     "data": {
      "text/plain": [
       "{\n",
       "  id: \u001b[32m\"9e6c3761-629a-4b00-957d-2953a593a4b3\"\u001b[39m,\n",
       "  object: \u001b[32m\"chat.completion\"\u001b[39m,\n",
       "  created: \u001b[33m1739167304\u001b[39m,\n",
       "  model: \u001b[32m\"deepseek-chat\"\u001b[39m,\n",
       "  choices: [\n",
       "    {\n",
       "      index: \u001b[33m0\u001b[39m,\n",
       "      message: {\n",
       "        role: \u001b[32m\"assistant\"\u001b[39m,\n",
       "        content: \u001b[32m\"您好，建议您联网获取时效性较强的信息；如果还有其他问题需要帮助，请随时告诉我！\"\u001b[39m\n",
       "      },\n",
       "      logprobs: \u001b[1mnull\u001b[22m,\n",
       "      finish_reason: \u001b[32m\"stop\"\u001b[39m\n",
       "    }\n",
       "  ],\n",
       "  usage: {\n",
       "    prompt_tokens: \u001b[33m7\u001b[39m,\n",
       "    completion_tokens: \u001b[33m21\u001b[39m,\n",
       "    total_tokens: \u001b[33m28\u001b[39m,\n",
       "    prompt_tokens_details: { cached_tokens: \u001b[33m0\u001b[39m },\n",
       "    prompt_cache_hit_tokens: \u001b[33m0\u001b[39m,\n",
       "    prompt_cache_miss_tokens: \u001b[33m7\u001b[39m\n",
       "  },\n",
       "  system_fingerprint: \u001b[32m\"fp_3a5770e1b4\"\u001b[39m\n",
       "}"
      ]
     },
     "execution_count": 5,
     "metadata": {},
     "output_type": "execute_result"
    }
   ],
   "source": [
    "\n",
    "// const tools = functions: [\n",
    "//         {\n",
    "//           name: \"get_stock_data\",\n",
    "//           description: \"获取指定位置天气，用户需要先指定一个位置\",\n",
    "//           parameters: {\n",
    "//             type: \"object\",\n",
    "//             properties: {\n",
    "//               location: {\n",
    "//                 type: \"string\",\n",
    "//                 description: \"城市或者地区名称，比如杭州\"\n",
    "//               },\n",
    "//             },\n",
    "//             required: [\"location\"]\n",
    "//           }\n",
    "//         }\n",
    "//       ],\n",
    "// await openai.chat.completions.create({\n",
    "//       model: 'deepseek-chat', // DeepSeek专用模型标识\n",
    "//       messages: [\n",
    "//         { \n",
    "//           role: 'user', \n",
    "//           content: \"今天杭州天气怎么样\"\n",
    "//         }\n",
    "//       ],\n",
    "     \n",
    "//       function_call: \"auto\",\n",
    "//       temperature: 0.3\n",
    "//     });"
   ]
  }
 ],
 "metadata": {
  "kernelspec": {
   "display_name": "Deno",
   "language": "typescript",
   "name": "deno"
  },
  "language_info": {
   "codemirror_mode": "typescript",
   "file_extension": ".ts",
   "mimetype": "text/x.typescript",
   "name": "typescript",
   "nbconvert_exporter": "script",
   "pygments_lexer": "typescript",
   "version": "5.6.2"
  }
 },
 "nbformat": 4,
 "nbformat_minor": 2
}
