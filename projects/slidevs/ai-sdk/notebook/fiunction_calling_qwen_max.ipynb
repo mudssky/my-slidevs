{
 "cells": [
  {
   "cell_type": "code",
   "execution_count": 1,
   "metadata": {},
   "outputs": [],
   "source": [
    "import Config from \"../scripts/config.json\" assert { type: \"json\" }\n",
    "import OpenAI from 'npm:openai'"
   ]
  },
  {
   "cell_type": "code",
   "execution_count": 7,
   "metadata": {},
   "outputs": [
    {
     "data": {
      "text/plain": [
       "{\n",
       "  choices: [\n",
       "    {\n",
       "      message: { content: \u001b[32m\"\"\u001b[39m, role: \u001b[32m\"assistant\"\u001b[39m, tool_calls: [ \u001b[36m[Object]\u001b[39m ] },\n",
       "      finish_reason: \u001b[32m\"tool_calls\"\u001b[39m,\n",
       "      index: \u001b[33m0\u001b[39m,\n",
       "      logprobs: \u001b[1mnull\u001b[22m\n",
       "    }\n",
       "  ],\n",
       "  object: \u001b[32m\"chat.completion\"\u001b[39m,\n",
       "  usage: { prompt_tokens: \u001b[33m200\u001b[39m, completion_tokens: \u001b[33m24\u001b[39m, total_tokens: \u001b[33m224\u001b[39m },\n",
       "  created: \u001b[33m1741683425\u001b[39m,\n",
       "  system_fingerprint: \u001b[1mnull\u001b[22m,\n",
       "  model: \u001b[32m\"qwen-max-latest\"\u001b[39m,\n",
       "  id: \u001b[32m\"chatcmpl-fedb0949-a3c3-9688-8639-92fe13c52907\"\u001b[39m\n",
       "}"
      ]
     },
     "execution_count": 7,
     "metadata": {},
     "output_type": "execute_result"
    }
   ],
   "source": [
    "const openai = new OpenAI({\n",
    "  baseURL: Config.qwen_base_url,\n",
    "  apiKey: Config.qwen_api_key,\n",
    "})\n",
    "// deepseek当前版本function call还有问题\n",
    "const tools = [\n",
    "  {\n",
    "    type: \"function\",\n",
    "    function: {\n",
    "      name: \"getCurrentWeather\",\n",
    "      description: \"获取指定位置天气，用户需要先指定一个位置\",\n",
    "      parameters: {\n",
    "        type: \"object\",\n",
    "        properties: {\n",
    "          location: {\n",
    "            type: \"string\",\n",
    "            description: \"城市或者地区名称，比如杭州\",\n",
    "          },\n",
    "          unit: { type: \"string\", enum: [\"celsius\", \"fahrenheit\"] }\n",
    "        },\n",
    "        required: [\"location\"],\n",
    "      },\n",
    "    },\n",
    "  },\n",
    "];\n",
    "const toolcallRes=await openai.chat.completions.create({\n",
    "  model: \"qwen-max-latest\", // DeepSeek专用模型标识\n",
    "  messages: [\n",
    "    {\n",
    "      role: \"user\",\n",
    "      content: \"今天杭州天气怎么样\",\n",
    "    },\n",
    "  ],\n",
    "\n",
    "//   function_call: \"auto\",\n",
    "  temperature: 0.3,\n",
    "  tools,\n",
    "});\n",
    "\n",
    "toolcallRes\n"
   ]
  },
  {
   "cell_type": "code",
   "execution_count": 23,
   "metadata": {},
   "outputs": [
    {
     "name": "stdout",
     "output_type": "stream",
     "text": [
      "[\n",
      "  {\n",
      "    function: {\n",
      "      name: \"getCurrentWeather\",\n",
      "      arguments: '{\"location\": \"杭州\", \"unit\": \"celsius\"}'\n",
      "    },\n",
      "    index: 0,\n",
      "    id: \"call_b3711e00354540b1b28a6e\",\n",
      "    type: \"function\"\n",
      "  }\n",
      "]\n"
     ]
    }
   ],
   "source": [
    "// console.log(JSON.stringify(toolcallRes))\n",
    "console.dir(toolcallRes.choices[0].message.tool_calls)"
   ]
  },
  {
   "cell_type": "code",
   "execution_count": null,
   "metadata": {},
   "outputs": [],
   "source": []
  }
 ],
 "metadata": {
  "kernelspec": {
   "display_name": "Deno",
   "language": "typescript",
   "name": "deno"
  },
  "language_info": {
   "codemirror_mode": "typescript",
   "file_extension": ".ts",
   "mimetype": "text/x.typescript",
   "name": "typescript",
   "nbconvert_exporter": "script",
   "pygments_lexer": "typescript",
   "version": "5.7.3"
  }
 },
 "nbformat": 4,
 "nbformat_minor": 2
}
